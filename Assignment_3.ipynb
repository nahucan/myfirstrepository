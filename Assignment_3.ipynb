{
  "cells": [
    {
      "cell_type": "markdown",
      "id": "0bccebea",
      "metadata": {
        "id": "0bccebea"
      },
      "source": [
        "# Q1"
      ]
    },
    {
      "cell_type": "code",
      "execution_count": 2,
      "id": "415c8870",
      "metadata": {
        "id": "415c8870"
      },
      "outputs": [],
      "source": [
        "import numpy as np"
      ]
    },
    {
      "cell_type": "code",
      "execution_count": null,
      "id": "a7b3d77a",
      "metadata": {
        "id": "a7b3d77a"
      },
      "outputs": [],
      "source": [
        "arr1=np.arange(1,11)"
      ]
    },
    {
      "cell_type": "code",
      "execution_count": null,
      "id": "6fdaed91",
      "metadata": {
        "id": "6fdaed91",
        "outputId": "e8d51a14-6e2c-45bb-8fb4-17ce83c9f5f8"
      },
      "outputs": [
        {
          "data": {
            "text/plain": [
              "array([ 1,  2,  3,  4,  5,  6,  7,  8,  9, 10])"
            ]
          },
          "execution_count": 3,
          "metadata": {},
          "output_type": "execute_result"
        }
      ],
      "source": [
        "arr1"
      ]
    },
    {
      "cell_type": "markdown",
      "id": "06cc7667",
      "metadata": {
        "id": "06cc7667"
      },
      "source": [
        "# Q2"
      ]
    },
    {
      "cell_type": "code",
      "execution_count": null,
      "id": "b136de38",
      "metadata": {
        "id": "b136de38"
      },
      "outputs": [],
      "source": [
        "arr2=np.zeros((2,3))"
      ]
    },
    {
      "cell_type": "code",
      "execution_count": null,
      "id": "7d728007",
      "metadata": {
        "id": "7d728007",
        "outputId": "903bd5c6-c8ec-4aef-b2e5-2441612f39a6"
      },
      "outputs": [
        {
          "data": {
            "text/plain": [
              "array([[0., 0., 0.],\n",
              "       [0., 0., 0.]])"
            ]
          },
          "execution_count": 7,
          "metadata": {},
          "output_type": "execute_result"
        }
      ],
      "source": [
        "arr2"
      ]
    },
    {
      "cell_type": "markdown",
      "id": "e0b876ae",
      "metadata": {
        "id": "e0b876ae"
      },
      "source": [
        "# Q3"
      ]
    },
    {
      "cell_type": "code",
      "execution_count": null,
      "id": "50ec9f48",
      "metadata": {
        "id": "50ec9f48"
      },
      "outputs": [],
      "source": [
        "arr3=np.arange(2,21,2)"
      ]
    },
    {
      "cell_type": "code",
      "execution_count": null,
      "id": "971588d3",
      "metadata": {
        "id": "971588d3",
        "outputId": "84275c0d-44d6-410b-a644-78ad6e1707ae"
      },
      "outputs": [
        {
          "data": {
            "text/plain": [
              "array([ 2,  4,  6,  8, 10, 12, 14, 16, 18, 20])"
            ]
          },
          "execution_count": 11,
          "metadata": {},
          "output_type": "execute_result"
        }
      ],
      "source": [
        "arr3"
      ]
    },
    {
      "cell_type": "markdown",
      "id": "30a185f8",
      "metadata": {
        "id": "30a185f8"
      },
      "source": [
        "# Q4"
      ]
    },
    {
      "cell_type": "code",
      "execution_count": null,
      "id": "6c4f080f",
      "metadata": {
        "id": "6c4f080f"
      },
      "outputs": [],
      "source": [
        "arr1 = np.array([1, 2, 3])"
      ]
    },
    {
      "cell_type": "code",
      "execution_count": null,
      "id": "b768ae93",
      "metadata": {
        "id": "b768ae93"
      },
      "outputs": [],
      "source": [
        "arr2 = np.array([4,\n",
        "5, 6])"
      ]
    },
    {
      "cell_type": "code",
      "execution_count": null,
      "id": "c9987d32",
      "metadata": {
        "id": "c9987d32",
        "outputId": "c40c5231-b3f7-43cd-d13c-4d8b95cca327"
      },
      "outputs": [
        {
          "data": {
            "text/plain": [
              "array([5, 7, 9])"
            ]
          },
          "execution_count": 14,
          "metadata": {},
          "output_type": "execute_result"
        }
      ],
      "source": [
        "arr1+arr2"
      ]
    },
    {
      "cell_type": "code",
      "execution_count": null,
      "id": "39d62734",
      "metadata": {
        "id": "39d62734",
        "outputId": "2ab368b5-feb5-4da0-ec2f-cc82f9520eab"
      },
      "outputs": [
        {
          "data": {
            "text/plain": [
              "array([-3, -3, -3])"
            ]
          },
          "execution_count": 15,
          "metadata": {},
          "output_type": "execute_result"
        }
      ],
      "source": [
        "arr1-arr2"
      ]
    },
    {
      "cell_type": "code",
      "execution_count": null,
      "id": "c2fc06be",
      "metadata": {
        "id": "c2fc06be",
        "outputId": "8b09fdb5-01c7-4020-f9cf-501f21206ff2"
      },
      "outputs": [
        {
          "data": {
            "text/plain": [
              "array([ 4, 10, 18])"
            ]
          },
          "execution_count": 16,
          "metadata": {},
          "output_type": "execute_result"
        }
      ],
      "source": [
        "arr1*arr2"
      ]
    },
    {
      "cell_type": "code",
      "execution_count": null,
      "id": "a5fc6ed3",
      "metadata": {
        "id": "a5fc6ed3",
        "outputId": "5a17567f-5bcf-448a-f43b-ac5a74f99589"
      },
      "outputs": [
        {
          "data": {
            "text/plain": [
              "array([0.25, 0.4 , 0.5 ])"
            ]
          },
          "execution_count": 17,
          "metadata": {},
          "output_type": "execute_result"
        }
      ],
      "source": [
        "arr1/arr2"
      ]
    },
    {
      "cell_type": "markdown",
      "id": "b580f6cb",
      "metadata": {
        "id": "b580f6cb"
      },
      "source": [
        "# Q5"
      ]
    },
    {
      "cell_type": "code",
      "execution_count": 24,
      "id": "b058e18e",
      "metadata": {
        "id": "b058e18e"
      },
      "outputs": [],
      "source": [
        "arr1=np.random.randint(1,101,100)"
      ]
    },
    {
      "cell_type": "code",
      "execution_count": 25,
      "id": "089f26fb",
      "metadata": {
        "id": "089f26fb",
        "outputId": "74cc768f-f8cd-4035-ebcd-736104bd41dc",
        "colab": {
          "base_uri": "https://localhost:8080/"
        }
      },
      "outputs": [
        {
          "output_type": "execute_result",
          "data": {
            "text/plain": [
              "array([100,  76,  23,  31,  57,  28,  26,  85,  20,  81,  87,  86,  27,\n",
              "        99,  68,   5,  20,  63,  49,  16,  23,  64,   8,  57,  75,  13,\n",
              "        45,  75,  93,  50,  10,  84,  10,  92,  47,  56,  81,  38,  82,\n",
              "        25,  88,  47,  47,  11,  54,  34,  24,  21,   3,  59,  93,  28,\n",
              "        59,  45,  74,  55,  18,  82,  68,  24,  17,  70,  42,  30,  26,\n",
              "        10,   9,  57,  43,  13,  90,  59,  96,  28,  32,  53, 100,  36,\n",
              "        70,  28,  54,  38,   7,  87,  30,  11,  33,  36,  71,  35,  13,\n",
              "        74,   8,  84,  89,  36,   5,  39,   4,  62])"
            ]
          },
          "metadata": {},
          "execution_count": 25
        }
      ],
      "source": [
        "arr1"
      ]
    },
    {
      "cell_type": "code",
      "execution_count": 26,
      "id": "df7032ac",
      "metadata": {
        "id": "df7032ac",
        "outputId": "7e1c393e-3e91-4f27-d29f-faa5c9c1d0de",
        "colab": {
          "base_uri": "https://localhost:8080/"
        }
      },
      "outputs": [
        {
          "output_type": "execute_result",
          "data": {
            "text/plain": [
              "47.34"
            ]
          },
          "metadata": {},
          "execution_count": 26
        }
      ],
      "source": [
        "mean = arr1.mean()\n",
        "mean"
      ]
    },
    {
      "cell_type": "code",
      "execution_count": 27,
      "id": "95006f85",
      "metadata": {
        "id": "95006f85"
      },
      "outputs": [],
      "source": [
        "arr1.sort()"
      ]
    },
    {
      "cell_type": "code",
      "execution_count": 28,
      "id": "782912b4",
      "metadata": {
        "id": "782912b4",
        "outputId": "61cfe3b3-10a7-4474-bdf4-a1b3607f7ef2",
        "colab": {
          "base_uri": "https://localhost:8080/"
        }
      },
      "outputs": [
        {
          "output_type": "execute_result",
          "data": {
            "text/plain": [
              "array([  3,   4,   5,   5,   7,   8,   8,   9,  10,  10,  10,  11,  11,\n",
              "        13,  13,  13,  16,  17,  18,  20,  20,  21,  23,  23,  24,  24,\n",
              "        25,  26,  26,  27,  28,  28,  28,  28,  30,  30,  31,  32,  33,\n",
              "        34,  35,  36,  36,  36,  38,  38,  39,  42,  43,  45,  45,  47,\n",
              "        47,  47,  49,  50,  53,  54,  54,  55,  56,  57,  57,  57,  59,\n",
              "        59,  59,  62,  63,  64,  68,  68,  70,  70,  71,  74,  74,  75,\n",
              "        75,  76,  81,  81,  82,  82,  84,  84,  85,  86,  87,  87,  88,\n",
              "        89,  90,  92,  93,  93,  96,  99, 100, 100])"
            ]
          },
          "metadata": {},
          "execution_count": 28
        }
      ],
      "source": [
        "arr1"
      ]
    },
    {
      "cell_type": "code",
      "execution_count": 30,
      "id": "ba19a2de",
      "metadata": {
        "id": "ba19a2de",
        "outputId": "878ab40a-2cf7-4bbc-b03d-702d7e7ecd04",
        "colab": {
          "base_uri": "https://localhost:8080/"
        }
      },
      "outputs": [
        {
          "output_type": "execute_result",
          "data": {
            "text/plain": [
              "45.0"
            ]
          },
          "metadata": {},
          "execution_count": 30
        }
      ],
      "source": [
        "median=(arr1[49]+arr1[50])/2\n",
        "median"
      ]
    },
    {
      "cell_type": "code",
      "execution_count": 31,
      "id": "0329b79c",
      "metadata": {
        "id": "0329b79c",
        "outputId": "bc61929b-e16a-47e4-af0c-4a9f7dd574d2",
        "colab": {
          "base_uri": "https://localhost:8080/"
        }
      },
      "outputs": [
        {
          "output_type": "execute_result",
          "data": {
            "text/plain": [
              "28.307673871231454"
            ]
          },
          "metadata": {},
          "execution_count": 31
        }
      ],
      "source": [
        "std_dev=arr1.std()\n",
        "std_dev"
      ]
    },
    {
      "cell_type": "markdown",
      "id": "d0f811ef",
      "metadata": {
        "id": "d0f811ef"
      },
      "source": [
        "# Q6"
      ]
    },
    {
      "cell_type": "code",
      "execution_count": null,
      "id": "d6dcbb2e",
      "metadata": {
        "id": "d6dcbb2e"
      },
      "outputs": [],
      "source": [
        "arr1=np.random.randint(1,101,12)"
      ]
    },
    {
      "cell_type": "code",
      "execution_count": null,
      "id": "aea79c9f",
      "metadata": {
        "id": "aea79c9f",
        "outputId": "b685e49e-d38a-4284-8e0e-2728bafd0949"
      },
      "outputs": [
        {
          "data": {
            "text/plain": [
              "array([99,  9,  7, 45, 89, 67, 30, 87,  3, 15, 67, 93])"
            ]
          },
          "execution_count": 37,
          "metadata": {},
          "output_type": "execute_result"
        }
      ],
      "source": [
        "arr1"
      ]
    },
    {
      "cell_type": "code",
      "execution_count": null,
      "id": "17f6c516",
      "metadata": {
        "id": "17f6c516",
        "outputId": "c550ef83-930b-4080-d33b-66f4d99014e1"
      },
      "outputs": [
        {
          "data": {
            "text/plain": [
              "array([[99,  9,  7, 45],\n",
              "       [89, 67, 30, 87],\n",
              "       [ 3, 15, 67, 93]])"
            ]
          },
          "execution_count": 38,
          "metadata": {},
          "output_type": "execute_result"
        }
      ],
      "source": [
        "arr1.reshape(3,4)"
      ]
    },
    {
      "cell_type": "markdown",
      "id": "e3130227",
      "metadata": {
        "id": "e3130227"
      },
      "source": [
        "# Q7"
      ]
    },
    {
      "cell_type": "code",
      "execution_count": null,
      "id": "c5b9d58c",
      "metadata": {
        "id": "c5b9d58c",
        "outputId": "83570790-c1fa-4ce5-a046-1ed6d61b4d76"
      },
      "outputs": [
        {
          "data": {
            "text/plain": [
              "array([ 1,  4,  9, 16, 25])"
            ]
          },
          "execution_count": 39,
          "metadata": {},
          "output_type": "execute_result"
        }
      ],
      "source": [
        "arr = np.array([1, 2, 3, 4, 5])\n",
        "np.square(arr)"
      ]
    },
    {
      "cell_type": "markdown",
      "id": "72e322bc",
      "metadata": {
        "id": "72e322bc"
      },
      "source": [
        "# Q8"
      ]
    },
    {
      "cell_type": "code",
      "execution_count": null,
      "id": "475d869b",
      "metadata": {
        "id": "475d869b",
        "outputId": "95bc7321-9927-4c2b-eeaa-f846c3c8086b"
      },
      "outputs": [
        {
          "data": {
            "text/plain": [
              "array([[1., 0., 0., 0., 0.],\n",
              "       [0., 1., 0., 0., 0.],\n",
              "       [0., 0., 1., 0., 0.],\n",
              "       [0., 0., 0., 1., 0.],\n",
              "       [0., 0., 0., 0., 1.]])"
            ]
          },
          "execution_count": 40,
          "metadata": {},
          "output_type": "execute_result"
        }
      ],
      "source": [
        "np.eye(5,5)"
      ]
    },
    {
      "cell_type": "markdown",
      "id": "d2912750",
      "metadata": {
        "id": "d2912750"
      },
      "source": [
        "# Q9\n"
      ]
    },
    {
      "cell_type": "code",
      "execution_count": null,
      "id": "d55f1fd5",
      "metadata": {
        "id": "d55f1fd5"
      },
      "outputs": [],
      "source": [
        "a= np.array([1, 2, 3])\n",
        "b = np.array([4, 5, 6])"
      ]
    },
    {
      "cell_type": "code",
      "execution_count": null,
      "id": "90f649d4",
      "metadata": {
        "id": "90f649d4",
        "outputId": "8f7aafc3-42e0-44f1-c820-a7f297e6b3f7"
      },
      "outputs": [
        {
          "data": {
            "text/plain": [
              "32"
            ]
          },
          "execution_count": 46,
          "metadata": {},
          "output_type": "execute_result"
        }
      ],
      "source": [
        "a.dot(b)"
      ]
    },
    {
      "cell_type": "markdown",
      "id": "b9e3f3ae",
      "metadata": {
        "id": "b9e3f3ae"
      },
      "source": [
        "# Q10"
      ]
    },
    {
      "cell_type": "code",
      "execution_count": null,
      "id": "d409e003",
      "metadata": {
        "id": "d409e003"
      },
      "outputs": [],
      "source": [
        "arr1=np.random.randint(1,101,10)"
      ]
    },
    {
      "cell_type": "code",
      "execution_count": null,
      "id": "bfc772e6",
      "metadata": {
        "id": "bfc772e6",
        "outputId": "86ad6bf8-64f7-4dd3-d187-8fc22adb6e79"
      },
      "outputs": [
        {
          "data": {
            "text/plain": [
              "array([ 7, 92, 43, 38,  6, 56, 45, 79, 91,  6])"
            ]
          },
          "execution_count": 48,
          "metadata": {},
          "output_type": "execute_result"
        }
      ],
      "source": [
        "arr1"
      ]
    },
    {
      "cell_type": "code",
      "execution_count": null,
      "id": "3ee27ea9",
      "metadata": {
        "id": "3ee27ea9",
        "outputId": "07280c7e-45b8-475b-c9f0-b6b71dc63fc1"
      },
      "outputs": [
        {
          "data": {
            "text/plain": [
              "1"
            ]
          },
          "execution_count": 49,
          "metadata": {},
          "output_type": "execute_result"
        }
      ],
      "source": [
        "arr1.argmax()"
      ]
    },
    {
      "cell_type": "code",
      "execution_count": null,
      "id": "989fbe97",
      "metadata": {
        "id": "989fbe97",
        "outputId": "92ac572c-ef3d-449b-8262-34fdcbf3bbd8"
      },
      "outputs": [
        {
          "data": {
            "text/plain": [
              "4"
            ]
          },
          "execution_count": 50,
          "metadata": {},
          "output_type": "execute_result"
        }
      ],
      "source": [
        "arr1.argmin()"
      ]
    },
    {
      "cell_type": "markdown",
      "source": [
        "#Q11\n"
      ],
      "metadata": {
        "id": "Vip_ObbBnGqt"
      },
      "id": "Vip_ObbBnGqt"
    },
    {
      "cell_type": "code",
      "execution_count": null,
      "id": "ef25e3f1",
      "metadata": {
        "colab": {
          "base_uri": "https://localhost:8080/"
        },
        "id": "ef25e3f1",
        "outputId": "c5dc9b1f-1068-4bd7-cbf0-1db4de5cbea1"
      },
      "outputs": [
        {
          "output_type": "stream",
          "name": "stdout",
          "text": [
            "Vertical Concatenation-\n",
            " [[0. 0. 0. 0.]\n",
            " [0. 0. 0. 0.]\n",
            " [0. 0. 0. 0.]\n",
            " [0. 0. 0. 0.]\n",
            " [1. 1. 1. 1.]\n",
            " [1. 1. 1. 1.]\n",
            " [1. 1. 1. 1.]\n",
            " [1. 1. 1. 1.]]\n",
            "Horizontal Concatenation-\n",
            " [[0. 0. 0. 0. 1. 1. 1. 1.]\n",
            " [0. 0. 0. 0. 1. 1. 1. 1.]\n",
            " [0. 0. 0. 0. 1. 1. 1. 1.]\n",
            " [0. 0. 0. 0. 1. 1. 1. 1.]]\n"
          ]
        }
      ],
      "source": [
        "a=np.zeros((4,4))\n",
        "b=np.ones((4,4))\n",
        "c=np.concatenate((a,b))\n",
        "d=np.concatenate((a,b),axis=1)\n",
        "print('Vertical Concatenation-\\n',c)\n",
        "print('Horizontal Concatenation-\\n',d)"
      ]
    },
    {
      "cell_type": "markdown",
      "source": [
        "#Q12"
      ],
      "metadata": {
        "id": "RyDNFy51o9rA"
      },
      "id": "RyDNFy51o9rA"
    },
    {
      "cell_type": "code",
      "source": [
        "arr=np.arange(1,17).reshape(4,4)\n",
        "print(arr)\n",
        "print('Sum of each column is ',np.sum(arr,axis=0) )\n",
        "print('Sum of each row is ',np.sum(arr,axis=1) )"
      ],
      "metadata": {
        "colab": {
          "base_uri": "https://localhost:8080/"
        },
        "id": "g4JcZOLLnmE_",
        "outputId": "8bda8a08-b447-46ef-ba45-3f879f2e7248"
      },
      "id": "g4JcZOLLnmE_",
      "execution_count": null,
      "outputs": [
        {
          "output_type": "stream",
          "name": "stdout",
          "text": [
            "[[ 1  2  3  4]\n",
            " [ 5  6  7  8]\n",
            " [ 9 10 11 12]\n",
            " [13 14 15 16]]\n",
            "Sum of each column is  [28 32 36 40]\n",
            "Sum of each row is  [10 26 42 58]\n"
          ]
        }
      ]
    },
    {
      "cell_type": "markdown",
      "source": [
        "#Q13"
      ],
      "metadata": {
        "id": "gmzImqF-tnL-"
      },
      "id": "gmzImqF-tnL-"
    },
    {
      "cell_type": "code",
      "source": [
        "a=np.array([[4,9],[5,8],[1,7]])\n",
        "b=np.array([[3,9],[5,2],[6,7]])\n",
        "c=np.intersect1d(a,b)\n",
        "print(\"The common elements between a and b are \",c)"
      ],
      "metadata": {
        "colab": {
          "base_uri": "https://localhost:8080/"
        },
        "id": "nfdHcy8eswug",
        "outputId": "119ea13d-6766-4c12-841a-156d0ba5af7c"
      },
      "id": "nfdHcy8eswug",
      "execution_count": null,
      "outputs": [
        {
          "output_type": "stream",
          "name": "stdout",
          "text": [
            "The common elements between a and b are  [5 7 9]\n"
          ]
        }
      ]
    },
    {
      "cell_type": "markdown",
      "source": [
        "#Q14"
      ],
      "metadata": {
        "id": "by9PjvRr_4dk"
      },
      "id": "by9PjvRr_4dk"
    },
    {
      "cell_type": "code",
      "source": [
        "x=np.array([1,2,3,-4,-5,-6])\n",
        "x[x<0]=0\n",
        "x"
      ],
      "metadata": {
        "colab": {
          "base_uri": "https://localhost:8080/"
        },
        "id": "VIjpnUBb_YRp",
        "outputId": "71531852-6adc-40b0-8982-2706ce4198e7"
      },
      "id": "VIjpnUBb_YRp",
      "execution_count": null,
      "outputs": [
        {
          "output_type": "execute_result",
          "data": {
            "text/plain": [
              "array([1, 2, 3, 0, 0, 0])"
            ]
          },
          "metadata": {},
          "execution_count": 24
        }
      ]
    },
    {
      "cell_type": "markdown",
      "source": [
        "#Q15"
      ],
      "metadata": {
        "id": "t-qOgof5ANtk"
      },
      "id": "t-qOgof5ANtk"
    },
    {
      "cell_type": "code",
      "source": [
        "arr1=np.random.randint(1,101,100)\n",
        "arr1.sort()\n",
        "arr1"
      ],
      "metadata": {
        "colab": {
          "base_uri": "https://localhost:8080/"
        },
        "id": "9U3TUJqBAEgC",
        "outputId": "183876c6-6b6b-4c6a-f23c-d54f2c9bc6e6"
      },
      "id": "9U3TUJqBAEgC",
      "execution_count": null,
      "outputs": [
        {
          "output_type": "execute_result",
          "data": {
            "text/plain": [
              "array([  2,   3,   8,   8,   8,  10,  10,  11,  15,  15,  16,  17,  17,\n",
              "        18,  18,  19,  20,  21,  21,  27,  28,  28,  29,  29,  30,  31,\n",
              "        32,  33,  33,  34,  34,  35,  35,  36,  37,  40,  40,  41,  42,\n",
              "        43,  43,  46,  47,  48,  48,  49,  50,  50,  50,  51,  52,  52,\n",
              "        53,  53,  55,  55,  58,  58,  59,  60,  61,  61,  62,  63,  64,\n",
              "        64,  65,  65,  66,  67,  68,  68,  68,  70,  72,  73,  74,  75,\n",
              "        76,  77,  79,  79,  81,  82,  83,  84,  84,  86,  87,  88,  88,\n",
              "        93,  93,  95,  97,  97,  98,  98,  99, 100])"
            ]
          },
          "metadata": {},
          "execution_count": 25
        }
      ]
    },
    {
      "cell_type": "markdown",
      "source": [
        "#Q16"
      ],
      "metadata": {
        "id": "wh-po8VEArKe"
      },
      "id": "wh-po8VEArKe"
    },
    {
      "cell_type": "code",
      "source": [
        "a=np.array([1,2,3,4,5])\n",
        "b=np.array([6,8,10,12,14])\n",
        "c=np.absolute(a-b)\n",
        "print(\"The element-wise absolute difference between the two arrays is \",c)"
      ],
      "metadata": {
        "colab": {
          "base_uri": "https://localhost:8080/"
        },
        "id": "C9JJgQx-AZfR",
        "outputId": "8f8da05a-f0e5-4ced-eec9-2ac1c4680a01"
      },
      "id": "C9JJgQx-AZfR",
      "execution_count": null,
      "outputs": [
        {
          "output_type": "stream",
          "name": "stdout",
          "text": [
            "The element-wise absolute difference between the two arrays is  [5 6 7 8 9]\n"
          ]
        }
      ]
    },
    {
      "cell_type": "markdown",
      "source": [
        "#Q17"
      ],
      "metadata": {
        "id": "KAluVzjKCH8L"
      },
      "id": "KAluVzjKCH8L"
    },
    {
      "cell_type": "code",
      "source": [
        "arr=np.array([[1,2,3],[4,5,6],[7,8,9]])\n",
        "firstrow=arr[0]\n",
        "lastcol=arr[:,[-1]]\n",
        "print(\"First row is\\n\",firstrow)\n",
        "print(\"Last Column is\\n\",lastcol)\n"
      ],
      "metadata": {
        "colab": {
          "base_uri": "https://localhost:8080/"
        },
        "id": "k2qX_-P_Df7Q",
        "outputId": "5837586d-76ab-49f9-abb5-ed094d053952"
      },
      "id": "k2qX_-P_Df7Q",
      "execution_count": 22,
      "outputs": [
        {
          "output_type": "stream",
          "name": "stdout",
          "text": [
            "First row is\n",
            " [1 2 3]\n",
            "Last Column is\n",
            " [[3]\n",
            " [6]\n",
            " [9]]\n"
          ]
        }
      ]
    },
    {
      "cell_type": "markdown",
      "source": [
        "#Q18"
      ],
      "metadata": {
        "id": "JAB6dvR5DV-E"
      },
      "id": "JAB6dvR5DV-E"
    },
    {
      "cell_type": "code",
      "source": [
        "a=np.array([1,2,3,4,5])\n",
        "x=a[0:len(a)+1]\n",
        "print(x)"
      ],
      "metadata": {
        "colab": {
          "base_uri": "https://localhost:8080/"
        },
        "id": "lojCdBkpDCSo",
        "outputId": "455faab9-ab50-40f9-f2cf-9bed31696519"
      },
      "id": "lojCdBkpDCSo",
      "execution_count": 11,
      "outputs": [
        {
          "output_type": "stream",
          "name": "stdout",
          "text": [
            "[1 2 3 4 5]\n"
          ]
        }
      ]
    },
    {
      "cell_type": "markdown",
      "source": [
        "#Q19"
      ],
      "metadata": {
        "id": "fQyxYesORvkF"
      },
      "id": "fQyxYesORvkF"
    },
    {
      "cell_type": "code",
      "source": [
        "arr=np.array([[10,1,14,16,18,20],[22,24,26,28,30,32],[34,36,38,40,42,44],[46,48,50,52,54,56],[58,60,62,64,66,68],[70,72,74,76,78,80]])\n",
        "x=arr[2:4,[2,3]]\n",
        "print('Original array is\\n',arr)\n",
        "print('Central 2x2 elements include\\n',x)"
      ],
      "metadata": {
        "id": "GuP6S3vEEYGo",
        "colab": {
          "base_uri": "https://localhost:8080/"
        },
        "outputId": "71a3ecd4-436c-4e4e-c9ea-0ca883711e01"
      },
      "id": "GuP6S3vEEYGo",
      "execution_count": 14,
      "outputs": [
        {
          "output_type": "stream",
          "name": "stdout",
          "text": [
            "Original array is\n",
            " [[10  1 14 16 18 20]\n",
            " [22 24 26 28 30 32]\n",
            " [34 36 38 40 42 44]\n",
            " [46 48 50 52 54 56]\n",
            " [58 60 62 64 66 68]\n",
            " [70 72 74 76 78 80]]\n",
            "Central 2x2 elements include\n",
            " [[38 40]\n",
            " [50 52]]\n"
          ]
        }
      ]
    },
    {
      "cell_type": "markdown",
      "source": [
        "#Q20"
      ],
      "metadata": {
        "id": "B1rTzGvDS_7y"
      },
      "id": "B1rTzGvDS_7y"
    },
    {
      "cell_type": "code",
      "source": [
        "a=np.array([1,2,3,4,5])\n",
        "x=a[::-1]\n",
        "x"
      ],
      "metadata": {
        "colab": {
          "base_uri": "https://localhost:8080/"
        },
        "id": "fSHzYF__SVf7",
        "outputId": "9e425912-aa8b-4439-9873-5c9c398ce543"
      },
      "id": "fSHzYF__SVf7",
      "execution_count": 21,
      "outputs": [
        {
          "output_type": "execute_result",
          "data": {
            "text/plain": [
              "array([5, 4, 3, 2, 1])"
            ]
          },
          "metadata": {},
          "execution_count": 21
        }
      ]
    },
    {
      "cell_type": "code",
      "source": [],
      "metadata": {
        "id": "hs-LOoYrTQbn"
      },
      "id": "hs-LOoYrTQbn",
      "execution_count": null,
      "outputs": []
    }
  ],
  "metadata": {
    "kernelspec": {
      "display_name": "Python 3 (ipykernel)",
      "language": "python",
      "name": "python3"
    },
    "language_info": {
      "codemirror_mode": {
        "name": "ipython",
        "version": 3
      },
      "file_extension": ".py",
      "mimetype": "text/x-python",
      "name": "python",
      "nbconvert_exporter": "python",
      "pygments_lexer": "ipython3",
      "version": "3.11.5"
    },
    "colab": {
      "provenance": []
    }
  },
  "nbformat": 4,
  "nbformat_minor": 5
}