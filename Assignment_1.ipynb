{
  "nbformat": 4,
  "nbformat_minor": 0,
  "metadata": {
    "colab": {
      "provenance": []
    },
    "kernelspec": {
      "name": "python3",
      "display_name": "Python 3"
    },
    "language_info": {
      "name": "python"
    }
  },
  "cells": [
    {
      "cell_type": "markdown",
      "source": [
        "1. Write a program to find the sum of two numbers.\n"
      ],
      "metadata": {
        "id": "iAFjheYFfQ3V"
      }
    },
    {
      "cell_type": "code",
      "execution_count": null,
      "metadata": {
        "colab": {
          "base_uri": "https://localhost:8080/"
        },
        "id": "AfJeP6pff4M9",
        "outputId": "241d216d-79a6-4b55-d267-41a0f61ea7f4"
      },
      "outputs": [
        {
          "output_type": "stream",
          "name": "stdout",
          "text": [
            "Enter first number2\n",
            "Enter second number3\n",
            "5\n"
          ]
        }
      ],
      "source": [
        "a=int(input('Enter first number'))\n",
        "b=int(input('Enter second number'))\n",
        "s=a+b\n",
        "print(s)"
      ]
    },
    {
      "cell_type": "markdown",
      "source": [
        "2. Write a program to find the product of two numbers.\n"
      ],
      "metadata": {
        "id": "oTZkQaSuffMI"
      }
    },
    {
      "cell_type": "code",
      "source": [
        "a=int(input('Enter first number'))\n",
        "b=int(input('Enter second number'))\n",
        "p=a*b\n",
        "print(p)"
      ],
      "metadata": {
        "colab": {
          "base_uri": "https://localhost:8080/"
        },
        "id": "sJcwo9HEgJZD",
        "outputId": "d22a967f-04c0-4acc-be68-feaf7a2d4cb7"
      },
      "execution_count": null,
      "outputs": [
        {
          "output_type": "stream",
          "name": "stdout",
          "text": [
            "Enter first number2\n",
            "Enter second number3\n",
            "6\n"
          ]
        }
      ]
    },
    {
      "cell_type": "markdown",
      "source": [
        "3. Write a program to find the quotient and remainder of two numbers.\n"
      ],
      "metadata": {
        "id": "7TEnxAbVfoUF"
      }
    },
    {
      "cell_type": "code",
      "source": [
        "a=int(input('Enter dividend number'))\n",
        "b=int(input('Enter divisor number'))\n",
        "q=a/b\n",
        "r=a%b\n",
        "print('The quotient is',q)\n",
        "print('The remainder is',r)"
      ],
      "metadata": {
        "colab": {
          "base_uri": "https://localhost:8080/"
        },
        "id": "5HvkMcs8g0-y",
        "outputId": "3677b74b-f83c-4792-8ecb-0e90ba015d1b"
      },
      "execution_count": null,
      "outputs": [
        {
          "output_type": "stream",
          "name": "stdout",
          "text": [
            "Enter dividend number5\n",
            "Enter divisor number2\n",
            "The quotient is 2.5\n",
            "The remainder is 1\n"
          ]
        }
      ]
    },
    {
      "cell_type": "markdown",
      "source": [
        "4. Write a program to find the length of a string.\n"
      ],
      "metadata": {
        "id": "MqlIgha2fu7e"
      }
    },
    {
      "cell_type": "code",
      "source": [
        "s=input('Enter a string ')\n",
        "print('Length of the string is ',len(s))"
      ],
      "metadata": {
        "colab": {
          "base_uri": "https://localhost:8080/"
        },
        "id": "WurYRF76haxk",
        "outputId": "49c7399c-35f1-47dd-9e55-03d8ee00a181"
      },
      "execution_count": null,
      "outputs": [
        {
          "output_type": "stream",
          "name": "stdout",
          "text": [
            "Enter a string youth\n",
            "Length of the string is  5\n"
          ]
        }
      ]
    },
    {
      "cell_type": "markdown",
      "source": [
        "5. Write a program to find the number of occurences of a character in a string.\n"
      ],
      "metadata": {
        "id": "ruEIeO6Cf4eb"
      }
    },
    {
      "cell_type": "code",
      "source": [
        "s=input('Enter a string ')\n",
        "i=input('Enter the character whose occurence you require ')\n",
        "print('Number of occurences is',s.count(i))"
      ],
      "metadata": {
        "colab": {
          "base_uri": "https://localhost:8080/"
        },
        "id": "xYe8Astxh3jh",
        "outputId": "72484bd9-5f9d-4d5a-b355-7744e3f421e7"
      },
      "execution_count": null,
      "outputs": [
        {
          "output_type": "stream",
          "name": "stdout",
          "text": [
            "Enter a string elephant\n",
            "Enter the character whose occurence you require e\n",
            "Number of occurences is 2\n"
          ]
        }
      ]
    },
    {
      "cell_type": "markdown",
      "source": [
        "6. Write a program to convert a string to all uppercase.\n"
      ],
      "metadata": {
        "id": "M9zmVAMMgT_Q"
      }
    },
    {
      "cell_type": "code",
      "source": [
        "s=input('Enter a string ')\n",
        "print(s.upper())"
      ],
      "metadata": {
        "colab": {
          "base_uri": "https://localhost:8080/"
        },
        "id": "8QZg42OsixYx",
        "outputId": "cde631ab-f7ba-46cc-c28e-5cd6b282663e"
      },
      "execution_count": null,
      "outputs": [
        {
          "output_type": "stream",
          "name": "stdout",
          "text": [
            "Enter a string Tree\n",
            "TREE\n"
          ]
        }
      ]
    },
    {
      "cell_type": "markdown",
      "source": [
        "7. Write a program to convert a string to all lowercase."
      ],
      "metadata": {
        "id": "RAx1avBEgcMz"
      }
    },
    {
      "cell_type": "code",
      "source": [
        "s=input('Enter a string ')\n",
        "print(s.lower())"
      ],
      "metadata": {
        "colab": {
          "base_uri": "https://localhost:8080/"
        },
        "id": "ZZyEFeN_jNxh",
        "outputId": "91b5e656-c5b4-457b-a60f-92afcb3b9e55"
      },
      "execution_count": null,
      "outputs": [
        {
          "output_type": "stream",
          "name": "stdout",
          "text": [
            "Enter a string Tree\n",
            "tree\n"
          ]
        }
      ]
    },
    {
      "cell_type": "code",
      "source": [],
      "metadata": {
        "id": "0ykP0IF4jeww"
      },
      "execution_count": null,
      "outputs": []
    }
  ]
}