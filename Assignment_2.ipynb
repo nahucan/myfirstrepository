{
  "nbformat": 4,
  "nbformat_minor": 0,
  "metadata": {
    "colab": {
      "provenance": []
    },
    "kernelspec": {
      "name": "python3",
      "display_name": "Python 3"
    },
    "language_info": {
      "name": "python"
    }
  },
  "cells": [
    {
      "cell_type": "code",
      "execution_count": null,
      "metadata": {
        "id": "sKB4o-lDY2PZ"
      },
      "outputs": [],
      "source": []
    },
    {
      "cell_type": "markdown",
      "source": [
        "Ans 1."
      ],
      "metadata": {
        "id": "YVLS4SNKeU24"
      }
    },
    {
      "cell_type": "code",
      "source": [
        "length=int(input('Enter the length'))\n",
        "width=int(input('Enter the width'))\n",
        "area=length*width\n",
        "print('Area of the rectangle is ',area)"
      ],
      "metadata": {
        "colab": {
          "base_uri": "https://localhost:8080/"
        },
        "id": "7weuqWWReXT7",
        "outputId": "52913f70-95e9-4949-b580-04f777812672"
      },
      "execution_count": null,
      "outputs": [
        {
          "output_type": "stream",
          "name": "stdout",
          "text": [
            "Enter the length5\n",
            "Enter the width3\n",
            "Area of the rectangle is  15\n"
          ]
        }
      ]
    },
    {
      "cell_type": "markdown",
      "source": [
        "Ans 2."
      ],
      "metadata": {
        "id": "EUjJ--SRfB5Y"
      }
    },
    {
      "cell_type": "code",
      "source": [
        "n1=int(input('Enter the first number'))\n",
        "n2=int(input('Enter the second number'))\n",
        "sum=n1+n2\n",
        "dif=n1-n2\n",
        "prd=n1*n2\n",
        "quo=n1/n2\n",
        "print('Sum of the two numbers is ',sum)\n",
        "print('Difference of the two numbers is ',dif)\n",
        "print('Product of the two numbers is ',prd)\n",
        "print('Quotient of the two numbers is ',quo)\n"
      ],
      "metadata": {
        "colab": {
          "base_uri": "https://localhost:8080/"
        },
        "id": "IzRa0Fw4f1J4",
        "outputId": "71f10bf6-621f-49fd-e572-219291b11686"
      },
      "execution_count": null,
      "outputs": [
        {
          "output_type": "stream",
          "name": "stdout",
          "text": [
            "Enter the first number8\n",
            "Enter the second number2\n",
            "Sum of the two numbers is  10\n",
            "Difference of the two numbers is  6\n",
            "Product of the two numbers is  16\n",
            "Quotient of the two numbers is  4.0\n"
          ]
        }
      ]
    },
    {
      "cell_type": "code",
      "source": [],
      "metadata": {
        "id": "-iRfjWkU2TEJ"
      },
      "execution_count": null,
      "outputs": []
    },
    {
      "cell_type": "markdown",
      "source": [
        "Ans 3."
      ],
      "metadata": {
        "id": "gGYOjSctgLOf"
      }
    },
    {
      "cell_type": "code",
      "source": [
        "temp=input('Enter the temperature along with unit F or C without space ')\n",
        "if temp[-1]=='F':\n",
        "  print('The value of the temperature in Celsius is ',(((int(temp[:-1]))-32)*5)/9)\n",
        "elif temp[-1]=='C':\n",
        "  print('The value of the temperature in Fahrenheit is ',(((int(temp[:-1]))*9)/5) + 32)\n",
        "else:\n",
        "  print('Invalid Entry')\n",
        "\n"
      ],
      "metadata": {
        "colab": {
          "base_uri": "https://localhost:8080/"
        },
        "id": "4rATqxn0gFGf",
        "outputId": "a9045e95-9bbd-49c0-c987-84685f38f804"
      },
      "execution_count": null,
      "outputs": [
        {
          "output_type": "stream",
          "name": "stdout",
          "text": [
            "Enter the temperature along with unit F or C without space 50F\n",
            "The value of the temperature in Celsius is  10.0\n"
          ]
        }
      ]
    },
    {
      "cell_type": "code",
      "source": [
        "temp=input('Enter the temperature along with unit F or C without space ')\n",
        "if temp[-1]=='F':\n",
        "  print('The value of the temperature in Celsius is ',(((int(temp[:-1]))-32)*5)/9)\n",
        "elif temp[-1]=='C':\n",
        "  print('The value of the temperature in Fahrenheit is ',(((int(temp[:-1]))*9)/5) + 32)\n",
        "else:\n",
        "  print('Invalid Entry')"
      ],
      "metadata": {
        "colab": {
          "base_uri": "https://localhost:8080/"
        },
        "id": "odzko7bIkmrv",
        "outputId": "77b202bb-5b54-4ca0-8ded-086e9af57773"
      },
      "execution_count": null,
      "outputs": [
        {
          "output_type": "stream",
          "name": "stdout",
          "text": [
            "Enter the temperature along with unit F or C without space 50C\n",
            "The value of the temperature in Fahrenheit is  122.0\n"
          ]
        }
      ]
    },
    {
      "cell_type": "markdown",
      "source": [
        "Ans 4."
      ],
      "metadata": {
        "id": "FrpJfcUVlkLR"
      }
    },
    {
      "cell_type": "code",
      "source": [
        "num=int(input('Enter the number'))\n",
        "if num>0:\n",
        "  print('The number is positive')\n",
        "elif num<0:\n",
        "  print('The number is negative')\n",
        "elif num==0:\n",
        "  print('The number is equal to zero')\n",
        "else:\n",
        "  print('Invalid Entry')"
      ],
      "metadata": {
        "colab": {
          "base_uri": "https://localhost:8080/"
        },
        "id": "xNjf86GPlfkO",
        "outputId": "81c90164-88fc-4a97-d1c8-250b40d8a016"
      },
      "execution_count": null,
      "outputs": [
        {
          "output_type": "stream",
          "name": "stdout",
          "text": [
            "Enter the number6\n",
            "The number is positive\n"
          ]
        }
      ]
    },
    {
      "cell_type": "markdown",
      "source": [
        "Ans 5."
      ],
      "metadata": {
        "id": "EtteYW1Pmd80"
      }
    },
    {
      "cell_type": "code",
      "source": [
        "year=int(input('Enter the year '))\n",
        "if year%4==0 and year%100!=0:\n",
        "  print('The year is a leap year')\n",
        "elif year%400==0:\n",
        "  print('The year is a leap year')\n",
        "else:\n",
        "  print('The year is not a leap year')"
      ],
      "metadata": {
        "id": "4LYGU46TmHoY",
        "colab": {
          "base_uri": "https://localhost:8080/"
        },
        "outputId": "f9d4761b-2ce5-417b-91b5-eca55a2ab1b0"
      },
      "execution_count": null,
      "outputs": [
        {
          "output_type": "stream",
          "name": "stdout",
          "text": [
            "Enter the year 2000\n",
            "The year is a leap year\n"
          ]
        }
      ]
    },
    {
      "cell_type": "markdown",
      "source": [
        "Ans 6."
      ],
      "metadata": {
        "id": "_X3wi9g3Bx-b"
      }
    },
    {
      "cell_type": "code",
      "source": [
        "mark=int(input('Enter the mark '))\n",
        "if mark>=90:\n",
        "  print('You have scored A grade')\n",
        "elif mark>=80:\n",
        "  print('You have scored B grade')\n",
        "elif mark>=70:\n",
        "  print('You have scored C grade')\n",
        "elif mark>=60:\n",
        "  print('You have scored D grade')\n",
        "elif mark>=0:\n",
        "  print('You have scored F grade')\n",
        "else:\n",
        "  print('Invalid Entry')"
      ],
      "metadata": {
        "colab": {
          "base_uri": "https://localhost:8080/"
        },
        "id": "1qR-Rqy3_jpo",
        "outputId": "19f41d66-41f8-4526-8848-8516f66a8b52"
      },
      "execution_count": null,
      "outputs": [
        {
          "output_type": "stream",
          "name": "stdout",
          "text": [
            "Enter the mark 79\n",
            "You have scored C grade\n"
          ]
        }
      ]
    },
    {
      "cell_type": "markdown",
      "source": [
        "Ans 7."
      ],
      "metadata": {
        "id": "YpoeMGNcB2Ss"
      }
    },
    {
      "cell_type": "code",
      "source": [
        "for i in range(10,0,-1):\n",
        "  print(i)"
      ],
      "metadata": {
        "colab": {
          "base_uri": "https://localhost:8080/"
        },
        "id": "qR4Y56OTBqCH",
        "outputId": "2d120e33-e3ae-465c-f823-63ba1a968bdc"
      },
      "execution_count": null,
      "outputs": [
        {
          "output_type": "stream",
          "name": "stdout",
          "text": [
            "10\n",
            "9\n",
            "8\n",
            "7\n",
            "6\n",
            "5\n",
            "4\n",
            "3\n",
            "2\n",
            "1\n"
          ]
        }
      ]
    },
    {
      "cell_type": "markdown",
      "source": [
        "Ans 8."
      ],
      "metadata": {
        "id": "pAXMLiA8CV-o"
      }
    },
    {
      "cell_type": "code",
      "source": [
        "for i in range(1,21):\n",
        "  if i%2==0:\n",
        "    print(i)"
      ],
      "metadata": {
        "colab": {
          "base_uri": "https://localhost:8080/"
        },
        "id": "vMmHOk2kCDcP",
        "outputId": "2b9bd9dd-f7b9-45a9-ee7f-07263477fe5a"
      },
      "execution_count": null,
      "outputs": [
        {
          "output_type": "stream",
          "name": "stdout",
          "text": [
            "2\n",
            "4\n",
            "6\n",
            "8\n",
            "10\n",
            "12\n",
            "14\n",
            "16\n",
            "18\n",
            "20\n"
          ]
        }
      ]
    },
    {
      "cell_type": "markdown",
      "source": [
        "Ans 9."
      ],
      "metadata": {
        "id": "B_crigLoCYAU"
      }
    },
    {
      "cell_type": "code",
      "source": [
        "num=int(input('Enter the number whose multiplication table you require '))\n",
        "for i in range(1,11):\n",
        "  print(num,'x',i,'=',num*i)\n"
      ],
      "metadata": {
        "colab": {
          "base_uri": "https://localhost:8080/"
        },
        "id": "FNHmXjxWCQXW",
        "outputId": "98449f6b-852c-4c0d-c6fa-fd6eb60eaad6"
      },
      "execution_count": null,
      "outputs": [
        {
          "output_type": "stream",
          "name": "stdout",
          "text": [
            "Enter the number whose multiplication table you require 5\n",
            "5 x 1 = 5\n",
            "5 x 2 = 10\n",
            "5 x 3 = 15\n",
            "5 x 4 = 20\n",
            "5 x 5 = 25\n",
            "5 x 6 = 30\n",
            "5 x 7 = 35\n",
            "5 x 8 = 40\n",
            "5 x 9 = 45\n",
            "5 x 10 = 50\n"
          ]
        }
      ]
    },
    {
      "cell_type": "code",
      "source": [],
      "metadata": {
        "id": "sXkhKV85DP-d"
      },
      "execution_count": null,
      "outputs": []
    }
  ]
}